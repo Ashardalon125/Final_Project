{
 "cells": [
  {
   "cell_type": "markdown",
   "metadata": {},
   "source": [
    "## Introduction"
   ]
  },
  {
   "cell_type": "markdown",
   "metadata": {},
   "source": [
    "A particle's energy can be broken into different types of energy, such as kinetic or potential energy. Further, in physics there is a concept known as a potential well, wherein an area of space with little or no potential \"height\" is bounded by areas of significantly higher potential energy.\n",
    "\n",
    "<img src=\"files/Potential Energy Well.png\">\n",
    "\n",
    "The above case is a 1D potential energy well, where the particle can \"roll\" left and right, trading its kinetic energy for potential as it \"climbs\" the slopes. Once it runs out of kinetic energy, it starts to move back towards the center, converting its potential to kinetic energy. Higher kinetic energy particles can move further up the well, while lower energy ones are trapped lower in the well. In this instance, the amount of potential is a function based on distance that eventually levels off, meaning a particle could theoretically escape the well.\n",
    "\n",
    "For the purposes of this workbook, we have a particle that is inside a 1D potential well. However, unlike the above figure, the potential is defined by a delta function:\n",
    "\n",
    "$$U(r) = -U_0$$\n",
    "\n",
    "$$U(r) = 0$$\n",
    "\n",
    "where $U_0$ is a positive constant. From this, the acceleration on the particle at any point can be found using:\n",
    "$$\\vec{F} = -\\hat{x}\\frac{\\partial{U}}{\\partial{x}}$$\n",
    "$$\\vec{F} = m\\frac{\\partial^2{x}}{\\partial{t^2}}$$\n",
    "$$\\frac{\\mathrm{dv_x} }{\\mathrm{d} t}=-\\frac{1}{m}\\frac{\\partial U}{\\partial x}$$\n",
    "\n",
    "When the particle reaches the well, it will experience an impulse proportional to the difference in potential it is facing. If this potential is greater than the kinetic energy of the particle, then it will be reflected, but if it has more energy than the potential, it will be able to cross over, albeit while losing speed."
   ]
  },
  {
   "cell_type": "markdown",
   "metadata": {},
   "source": [
    "## Numerical Model - Euler's Method & The Heaviside Step Function"
   ]
  },
  {
   "cell_type": "markdown",
   "metadata": {},
   "source": [
    "In order to both effectively and quickly map the motion of the particle, the program will use a step-by-step model. Specifically, it will use an Euler Method, in which the values of the previous step generate the information for the current step. The program does not calculate the position based on an overall equation that perfectly models motion, but rather individual steps. Given a time span from $t_i$ to $t_f$, it can be subdivided into a user-specified number of N steps.\n",
    "$$h=(t_f - t_i)/N$$\n",
    "\n",
    "At any point, the particle also has a velocity and position. In addition, the particle also has a value of potential energy based on the position vector, which indicates whether or not it is within the potential well.\n",
    "\n",
    "Each position and velocity value is generated in sequence and added to a list of values, recording the particle's behaviour from the given times in steps of $h$. However, without any further functions, the particle would just head off in one direction and never stop. The primary difference here is the fact that it undergoes a change in potential energy, which allows it to change its behaviour once it encounters the potential well.\n",
    "\n",
    "Euler's Method, with a small enough step, can model the movement of the particle through the change, particularly near the edge, where the change will be most drastic as it encounters the well's \"wall.\" However, this is further complicated by the fact that the potential is a delta function. This means that the normal method of calculating acceleration from the force has trouble working properly due to not having a simple derivative for the infinite difference between the points.\n",
    "\n",
    "<img src=\"files/Heaviside Step Function.png\">\n",
    "\n",
    "A particularly helpful tool for this problem is the Heaviside Step Function, shown above. This function approximates the step with a curve that is flat everywhere else, and sharply curves at the \"step.\" By using this as an approximation of the delta function, it means that the derivative of the potential can be found, and used to produce an acceleration.\n",
    "\n",
    "In this instance, the Heaviside Step Function is defined as:\n",
    "$$H(x) = \\frac{1}{1+e^{-2k(x-R)}}$$\n",
    "$$\\frac{\\partial H(x)}{\\partial x}=\\frac{2k(x-r)e^{-2k(x-R)}}{(1+e^{-2k(x-R)})^2}$$"
   ]
  },
  {
   "cell_type": "markdown",
   "metadata": {},
   "source": [
    "## Code"
   ]
  },
  {
   "cell_type": "code",
   "execution_count": 144,
   "metadata": {
    "collapsed": true
   },
   "outputs": [],
   "source": [
    "# Import block\n",
    "import numpy as np\n",
    "import matplotlib.pyplot as plt\n",
    "from mpl_toolkits.mplot3d import Axes3D\n",
    "import math\n",
    "import scipy\n",
    "%matplotlib inline"
   ]
  },
  {
   "cell_type": "code",
   "execution_count": 248,
   "metadata": {},
   "outputs": [],
   "source": [
    "# Function definitions\n",
    "# k is universal constant\n",
    "k = 3\n",
    "\n",
    "def heaviside_Function (position, radius, potential):\n",
    "    '''Defines the Heaviside Function for the well\n",
    "    Note: Both this and the derivative have been scaled and shifted\n",
    "    \n",
    "    Arguments:\n",
    "    position: vector of the particle's position in one axis\n",
    "    radius: scalar length of radius\n",
    "    potential: the potential of the well\n",
    "    \n",
    "    returns: value of potential at the current position'''\n",
    "    if (position >=0):\n",
    "        return potential/(1+np.exp(-2*k*(position-radius)))-potential\n",
    "    else:\n",
    "        return potential/(1+np.exp(-2*k*(position+radius)))-potential\n",
    "\n",
    "def heaviside_derivative (position, radius, potential):\n",
    "    '''Defines the derivative at the current position\n",
    "    \n",
    "    Arguments:\n",
    "    position: vector of the particle's position in one axis\n",
    "    radius: scalar length of radius\n",
    "    potential: the potential of the well\n",
    "    \n",
    "    returns: value of potential at the current position'''\n",
    "    if (position >= 0):\n",
    "        numerator = 2*k*potential*np.exp(2*k*(position-radius))\n",
    "        denominator = np.exp(2*k*(position-radius))+1\n",
    "    else:\n",
    "        numerator = 2*k*potential*np.exp(2*k*(position+radius))\n",
    "        denominator = np.exp(2*k*(position+radius))+1\n",
    "    \n",
    "    return numerator/(denominator**2)\n",
    "\n",
    "def potential_Restriction(U_test = False):\n",
    "    '''Restricts the possible values of potential to purely positive values, as defined in the problem set up.\n",
    "    The \"U_test\" option defaults to a set value to make testing easy.\n",
    "    \n",
    "    returns: The force outside the radius\n",
    "    '''\n",
    "    \n",
    "    passing = False\n",
    "    if (U_test == True):\n",
    "        return 5000\n",
    "    else:\n",
    "        while(passing == False):\n",
    "            U = int(input(\"Please enter a positive value of potential energy in Joules: \"))\n",
    "            if (U > 0):\n",
    "                passing = True\n",
    "            else:\n",
    "                passing = False\n",
    "        return U\n",
    "\n",
    "\n",
    "def well_check (position, radius):\n",
    "    '''Determines whether the particle is in the well (radius exclusive)\n",
    "    \n",
    "    Arguments:\n",
    "    position: position of particle\n",
    "    radius: scalar magnitude of radius\n",
    "    \n",
    "    returns: truth value of whether it is inside or outside well'''\n",
    "\n",
    "    # Compare position against radius and return result\n",
    "    if (abs(position) < radius):\n",
    "        return True\n",
    "    else:\n",
    "        return False\n",
    "    \n",
    "def displacement (position, velocity, timestep):\n",
    "    '''Generates the new position of the particle\n",
    "    \n",
    "    Arguments:\n",
    "    position: position of particle\n",
    "    velocity: velocity of particle\n",
    "    timestep: time difference between steps\n",
    "    \n",
    "    returns: new position'''\n",
    "    \n",
    "    \n",
    "    return position + velocity * timestep\n",
    "\n",
    "def velocity_change(velocity, position, radius, potential, timestep, mass):\n",
    "    '''Uses heaviside function and timestep to calculate new velocity\n",
    "    \n",
    "    Arguments:\n",
    "    velocity: particle velocity\n",
    "    position: particle position\n",
    "    radius: well radius\n",
    "    potential: potential of inside well\n",
    "    timestep: time difference between steps\n",
    "    mass: mass of particle\n",
    "    \n",
    "    returns: new velocity'''\n",
    "    \n",
    "    # Calculate accelerations from Heaviside and use to find new velocities\n",
    "    acceleration = (-1/mass) * heaviside_derivative(position, radius, potential)\n",
    "    velocity = velocity + acceleration * timestep\n",
    "    \n",
    "    return velocity\n",
    "\n",
    "def total_energy (velocity, mass, potential):\n",
    "    '''Produces the value of total energy at all times\n",
    "    \n",
    "    Arguments:\n",
    "    velocity: current velocity\n",
    "    mass: mass of particle\n",
    "    potential: potential at current location\n",
    "    \n",
    "    returns: total energy'''\n",
    "    \n",
    "    kinetic = 0.5 * mass * (velocity ** 2)\n",
    "    energy = kinetic + potential\n",
    "    \n",
    "    return energy\n",
    "\n",
    "def motion_generator (iPosition, iVelocity, fTime, iTime, steps, radius, mass):\n",
    "    '''Generates the motion data set\n",
    "    \n",
    "    Arguments:\n",
    "    iPosition: initial position\n",
    "    iVelocity: initial velocity\n",
    "    fTime: ending time\n",
    "    iTime: starting time\n",
    "    steps: number of steps between start and finish\n",
    "    radius: length of spherical radius\n",
    "    mass: mass of particle\n",
    "    \n",
    "    returns:\n",
    "    positions: list of positions\n",
    "    velocities: list of velocities\n",
    "    times: list of paired times'''\n",
    "    \n",
    "    # Assign value of well height\n",
    "    potential_well = potential_Restriction(U_test = True)\n",
    "    \n",
    "    # Initialize lists\n",
    "    positions = []\n",
    "    velocities = []\n",
    "    energies = []\n",
    "    times = []\n",
    "    positions.append(iPosition)\n",
    "    velocities.append(iVelocity)\n",
    "    times.append(iTime)\n",
    "    if(well_check(iPosition,radius) == True):\n",
    "        energies.append(0)\n",
    "    else:\n",
    "        energies.append(potential_well)\n",
    "    \n",
    "    # Create time step\n",
    "    h = (fTime - iTime) / steps\n",
    "    \n",
    "    count = 0\n",
    "    while (count < steps):\n",
    "        # Calculate current energy total\n",
    "        PotentialA = heaviside_Function(positions[count], radius, potential_well)\n",
    "        energies.append(total_energy(velocities[count], mass, PotentialA))\n",
    "        \n",
    "        # Calculate new position\n",
    "        positions.append(displacement(positions[count], velocities[count], h))\n",
    "        \n",
    "        # Calculate new velocity\n",
    "        velocities.append(velocity_change(velocities[count], positions[count], radius, PotentialA, h, mass))\n",
    "        \n",
    "        # Increment count and times\n",
    "        count += 1\n",
    "        times.append(iTime + count*h)\n",
    "    return positions, velocities, times, energies"
   ]
  },
  {
   "cell_type": "code",
   "execution_count": 249,
   "metadata": {},
   "outputs": [],
   "source": [
    "# Constant block\n",
    "R = 1                                      # Defines the length of the radius\n",
    "Velocity = 1                         # Defines the initial velocity of the particle\n",
    "initial_position = -1                 # Defines the starting position of the particle\n",
    "mass = 10000                                # Defines mass of particle; default uses proton for sampling\n",
    "    \n",
    "# Time and steps block\n",
    "t_0 = 0                                    # Starting time\n",
    "t_final = 4                                # End time\n",
    "steps = 1000                               # Number of steps in time; increase for more precision\n",
    "\n",
    "# Test case\n",
    "p1, v1, time, energy = motion_generator (initial_position, Velocity, t_final, t_0, steps, R, mass)\n",
    "\n",
    "# Remove extreme start value\n",
    "p1 = p1[1::]\n",
    "v1 = v1[1::]\n",
    "time = time[1::]\n",
    "energy = energy[1::]"
   ]
  },
  {
   "cell_type": "code",
   "execution_count": 250,
   "metadata": {},
   "outputs": [
    {
     "data": {
      "image/png": "[encoded data removed]",
      "text/plain": [
       "<matplotlib.figure.Figure at 0x76344a8>"
      ]
     },
     "metadata": {},
     "output_type": "display_data"
    }
   ],
   "source": [
    "plt.plot(time,v1, \"o\")\n",
    "plt.xlabel(\"Time (s)\")\n",
    "plt.ylabel(\"Velocity\")\n",
    "plt.show()"
   ]
  },
  {
   "cell_type": "markdown",
   "metadata": {},
   "source": [
    "## Results"
   ]
  },
  {
   "cell_type": "markdown",
   "metadata": {},
   "source": [
    "As is seen in Figure 1, when the particle crosses the radius of the well, it experienced a change in velocity. This change in velocity appears on the position graph in the sharp angle. In this instance, its velocity increased, and it experienced a force along the axis of its motion. Notably, the velocity in the other directions was unaffected.\n",
    "\n",
    "However, if the velocity was in multiple axis, they were all affected when the particle encountered the well."
   ]
  },
  {
   "cell_type": "markdown",
   "metadata": {},
   "source": [
    "## Analysis"
   ]
  },
  {
   "cell_type": "markdown",
   "metadata": {},
   "source": []
  }
 ],
 "metadata": {
  "kernelspec": {
   "display_name": "Python 3",
   "language": "python",
   "name": "python3"
  },
  "language_info": {
   "codemirror_mode": {
    "name": "ipython",
    "version": 3
   },
   "file_extension": ".py",
   "mimetype": "text/x-python",
   "name": "python",
   "nbconvert_exporter": "python",
   "pygments_lexer": "ipython3",
   "version": "3.4.5"
  }
 },
 "nbformat": 4,
 "nbformat_minor": 1
}
