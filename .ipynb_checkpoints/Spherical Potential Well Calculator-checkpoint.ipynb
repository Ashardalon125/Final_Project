{
 "cells": [
  {
   "cell_type": "markdown",
   "metadata": {},
   "source": [
    "## Introduction"
   ]
  },
  {
   "cell_type": "markdown",
   "metadata": {},
   "source": [
    "A particle's energy can be broken into different types of energy, such as kinetic or potential energy. Further, in physics there is a concept known as a potential well, wherein an area of space with little or no potential \"height\" is bounded by areas of significantly higher potential energy.\n",
    "\n",
    "<img src=\"files/Potential Energy Well.png\">\n",
    "\n",
    "The above case is a 1D potential energy well, where the particle can \"roll\" left and right, trading its kinetic energy for potential as it \"climbs\" the slopes. Once it runs out of kinetic energy, it starts to move back towards the center, converting its potential to kinetic energy. Higher kinetic energy particles can move further up the well, while lower energy ones are trapped lower in the well. In this instance, the amount of potential is a function based on distance that eventually levels off, meaning a particle could theoretically escape the well.\n",
    "\n",
    "For the purposes of this workbook, we have a particle that is inside a spherical potential well. Like the 1D potential well, it has areas of higher and lower potential. In particular, inside the sphere has no potential, meaning the particle is free to move, while a particle outside also experiences no force as it moves along a constant potential energy \"field.\" Only when it moves between the two regions does it experience an impulse as it moves into an area with more free energy.\n",
    "\n",
    "This model can be described by the equations:\n",
    "\n",
    "$$U(r) = -U_0$$\n",
    "\n",
    "$$U(r) = 0$$\n",
    "\n",
    "where $U_0$ is a positive constant.\n",
    "\n",
    "As the particle cross the threshold of the spherical potential well, the energy conservation equations tell us its behaviour:\n",
    "$$U_i + K_i = E_{total}$$\n",
    "\n",
    "$$U_{well} = 0$$\n",
    "\n",
    "$$E_i = E_f$$\n",
    "\n",
    "$$K_{well} = E_{total} + U_{well}$$\n",
    "\n",
    "$$K_{well} = U_i + K_i$$\n",
    "\n",
    "Because of this relation, the kinetic energy inside the well must be different from the kinetic energy outside the well, so long as $U_i$ does not equal zero. By using energy conservation, the energy of the particle at any point can be found. Another important feature is the \"slope\" of the well. In the above image, the slope is a clear, potentially calculable value. In this workbook, the potential is described by a delta function, and thus the slope between the two parts is non-existent or infinite."
   ]
  },
  {
   "cell_type": "markdown",
   "metadata": {},
   "source": [
    "## Numerical Model - Euler's Method"
   ]
  },
  {
   "cell_type": "markdown",
   "metadata": {},
   "source": [
    "In order to both effectively and quickly map the motion of the particle, the program will use a step-by-step model. Specifically, it will use an Euler Method, in which the values of the previous step generate the information for the current step. The program does not calculate the position based on an overall equation that perfectly models motion, but rather individual steps. Given a time span from $t_i$ to $t_f$, it can be subdivided into a user-specified number of N steps.\n",
    "$$h=(t_f - t_i)/N$$\n",
    "\n",
    "At any point, the particle also has a velocity and position, given by 3-space vectors (such that $V = [V_x,V_y,V_z]$ and similar for the position vector). In addition, the particle also has a value of potential energy based on the position vector, which indicates whether or not it is within the potential well.\n",
    "\n",
    "Each position and velocity value is generated in sequence and added to a list of values, recording the particle's behaviour from the given times in steps of $h$. However, without any further functions, the particle would just head off in one direction and never stop. The primary difference here is the fact that it undergoes a change in potential energy, which allows it to change its behaviour once it encounters the potential well.\n",
    "\n",
    "Euler's Method, with a small enough step, can model the movement of the particle through the change, particularly near the edge, where the change will be most drastic as it encounters the well's \"wall.\""
   ]
  },
  {
   "cell_type": "markdown",
   "metadata": {},
   "source": [
    "## Code"
   ]
  },
  {
   "cell_type": "code",
   "execution_count": 8,
   "metadata": {
    "collapsed": true
   },
   "outputs": [],
   "source": [
    "# Import block\n",
    "import numpy as np\n",
    "import matplotlib.pyplot as plt\n",
    "from mpl_toolkits.mplot3d import Axes3D\n",
    "import math\n",
    "%matplotlib inline"
   ]
  },
  {
   "cell_type": "code",
   "execution_count": 152,
   "metadata": {
    "collapsed": true
   },
   "outputs": [],
   "source": [
    "# Function definitions\n",
    "\n",
    "def potential_Restriction(U_test = False):\n",
    "    '''Restricts the possible values of potential to purely positive values, as defined in the problem set up.\n",
    "    The \"U_test\" option defaults to a set value to make testing easy.\n",
    "    \n",
    "    returns: The force outside the radius\n",
    "    '''\n",
    "    \n",
    "    passing = False\n",
    "    if (U_test == True):\n",
    "        return 5000\n",
    "    else:\n",
    "        while(passing == False):\n",
    "            U = int(input(\"Please enter a positive value of potential energy in Joules: \"))\n",
    "            if (U > 0):\n",
    "                passing = True\n",
    "            else:\n",
    "                passing = False\n",
    "    return U\n",
    "\n",
    "\n",
    "def well_check (position, radius, potential):\n",
    "    '''Checks to see if the particle is in the well\n",
    "    \n",
    "    Arguments:\n",
    "    position: The current position of the particle in 3D space\n",
    "    radius: The radius of the spherical potential well\n",
    "    potential: The constant value of the potential outside the well\n",
    "    \n",
    "    returns: \n",
    "    local_potential: the potential at the current point\n",
    "    '''\n",
    "    # Note to self; fix x<-1 problem\n",
    "    \n",
    "    # Calculate magnitude of position vector\n",
    "    magnitude = 0\n",
    "    for p in range(len(position)):\n",
    "        magnitude += position[p]**2\n",
    "    magnitude = magnitude ** 0.5\n",
    "    \n",
    "    # Compare against magnitude of radius\n",
    "    if (magnitude < radius):\n",
    "        return potential\n",
    "    else:\n",
    "        return 0\n",
    "\n",
    "def new_position (Position1, velocity, timestep):\n",
    "    '''Generates the next position\n",
    "    \n",
    "    Arguments:\n",
    "    Position1: The particle's current position\n",
    "    velocity: The particle's current velocity\n",
    "    timestep: The discrete time the motion occurs over\n",
    "    \n",
    "    returns: New position coordinates\n",
    "    '''\n",
    "    \n",
    "    Position2 = [] # New position vector\n",
    "    for i in range(len(Position1)):\n",
    "        Position2.append(Position1[i] + velocity[i] * timestep)\n",
    "        \n",
    "    return Position2\n",
    "\n",
    "\n",
    "def work_energy (velocity, mass, deltapotential):\n",
    "    '''Performs the work-energy theorem in order to change kinetic energy based on potential\n",
    "    \n",
    "    Arguments:\n",
    "    velocity: a three space vector detailing the velocity of the particle\n",
    "    mass: the mass of the particle\n",
    "    deltapotential: the potential difference at the current location\n",
    "    \n",
    "    returns: new velocity'''\n",
    "    # Note to self: fix velocity appending problem\n",
    "    \n",
    "    # First, create the kinetic energy vector and its magnitude\n",
    "    kinetic = []\n",
    "    magnitude = 0\n",
    "    for i in range(len(velocity)):\n",
    "        kinetic.append(0.5*mass*(velocity[i]**2))\n",
    "        magnitude += kinetic[i]**2\n",
    "    magnitude = magnitude**0.5\n",
    "    \n",
    "    # Next, create the unit vector to make the work energy theorem easier\n",
    "    # To reduce time, the reduction and conversion are also included here\n",
    "    unit_vector = []\n",
    "    deltaK = []\n",
    "    for j in range(len(velocity)):\n",
    "        unit_vector.append(kinetic[j]/magnitude)\n",
    "        deltaK.append((-1*deltapotential)*unit_vector[j])\n",
    "        kinetic[j] = kinetic[j] + deltaK[j]\n",
    "  \n",
    "    # In order to preserve direction, this next step is performed separately\n",
    "    plusminus = []\n",
    "    for p in range(len(velocity)):\n",
    "        if (kinetic[p] > 0):\n",
    "            plusminus.append(1)\n",
    "        elif (kinetic[p] == 0):\n",
    "            plusminus.append(0)\n",
    "        else:\n",
    "            plusminus.append(-1)\n",
    "    \n",
    "    # Using the plusminus list, the velocities and their directions can be calculated\n",
    "    for v in range(len(velocity)):\n",
    "        velocity[v] = plusminus[v] * (np.sqrt(2*kinetic[v]/mass))\n",
    "        \n",
    "    return velocity\n",
    "    \n",
    "\n",
    "\n",
    "def potential_well (initial_position, initial_velocity, mass, radius, steps, iTime, fTime):\n",
    "    '''Makes the whole run-time into a function so it can be called multiple times in minimal space\n",
    "    \n",
    "    Arguments:\n",
    "    initial_position: starting position of the particle\n",
    "    initial_velocity: starting velocity of the particle\n",
    "    mass: mass of the particle\n",
    "    radius: the radius of the spherical potential well\n",
    "    steps: number of steps to take\n",
    "    iTime: starting time\n",
    "    fTime: ending time\n",
    "    \n",
    "    returns:\n",
    "    positions: a list of positions the particle has been at over the timespan\n",
    "    velocities: a list of velocities the particel has been travelling at\n",
    "    times: times paired to the above values\n",
    "    '''\n",
    "    \n",
    "    # Initialization of the lists\n",
    "    position_list = []\n",
    "    velocity_list = []\n",
    "    time_list = []\n",
    "    position_list.append(initial_position)\n",
    "    velocity_list.append(initial_velocity)\n",
    "    time_list.append(iTime)\n",
    "    \n",
    "    # Generation of time step\n",
    "    time_step = (fTime-iTime)/steps\n",
    "    \n",
    "    # Get the value of potential from the user\n",
    "    potential_well = potential_Restriction(U_test = True)\n",
    "    \n",
    "    # Start generating list of values\n",
    "    count = 0\n",
    "    while (count < steps):\n",
    "        # Find the potential at the current position and advance particle\n",
    "        potential1 = well_check(position_list[count],radius,potential_well)\n",
    "        position_list.append(new_position(position_list[count],velocity_list[count],time_step))\n",
    "        \n",
    "        # Find the potential at the new position and determine if any change\n",
    "        potential2 = well_check(position_list[count+1],radius,potential_well)\n",
    "        deltaPotential = potential2 - potential1\n",
    "        \n",
    "        velocity_list.append(work_energy (velocity_list[count], mass, deltaPotential))\n",
    "            \n",
    "        # Increment count to avoid infinite loop\n",
    "        count +=1\n",
    "        time_list.append(iTime + count*time_step)\n",
    "    return position_list, velocity_list, time_list"
   ]
  },
  {
   "cell_type": "code",
   "execution_count": 161,
   "metadata": {},
   "outputs": [],
   "source": [
    "# Constant block\n",
    "R = 1                                      # Defines the length of the radius\n",
    "Velocity = [0,0,1]                         # Defines the initial velocity of the particle\n",
    "initial_position = [0,0,-0.5]                 # Defines the starting position of the particle\n",
    "mass = 1000                                # Defines mass of particle; default uses proton for sampling\n",
    "    \n",
    "# Time and steps block\n",
    "t_0 = 0                                    # Starting time\n",
    "t_final = 4                                # End time\n",
    "steps = 1000                               # Number of steps in time; increase for more precision\n",
    "\n",
    "# Test case\n",
    "p1, v1, t1 = potential_well (initial_position, Velocity, mass, R, steps, t_0, t_final)\n",
    "# Remove last, extreme value (double check to see if this works after renovations)\n",
    "p1 = p1[0:steps]\n",
    "v1 = v1[0:steps]\n",
    "t1 = t1[0:steps]"
   ]
  },
  {
   "cell_type": "code",
   "execution_count": 162,
   "metadata": {},
   "outputs": [
    {
     "data": {
      "image/png": "[encoded data removed]",
      "text/plain": [
       "<matplotlib.figure.Figure at 0x883ee80>"
      ]
     },
     "metadata": {},
     "output_type": "display_data"
    },
    {
     "name": "stdout",
     "output_type": "stream",
     "text": [
      "Figure 1\n"
     ]
    }
   ],
   "source": [
    "# If done correctly, then this section SHOULD still work\n",
    "# Obtain only one set of coordinates at a time\n",
    "x_coords = []\n",
    "y_coords = []\n",
    "z_coords = []\n",
    "xv_coords = []\n",
    "yv_coords = []\n",
    "zv_coords = []\n",
    "\n",
    "for i in range(len(p1)):\n",
    "    x_coords.append(p1[i][0])\n",
    "    y_coords.append(p1[i][1])\n",
    "    z_coords.append(p1[i][2])\n",
    "    xv_coords.append(v1[i][0])\n",
    "    yv_coords.append(v1[i][1])\n",
    "    zv_coords.append(v1[i][2])\n",
    "    \n",
    "plt.subplot(2,1,1)\n",
    "plt.plot(t1,z_coords)\n",
    "plt.xlabel(\"Time (s)\")\n",
    "plt.ylabel(\"Position\")\n",
    "\n",
    "plt.subplot(2,1,2)\n",
    "plt.plot(t1,zv_coords)\n",
    "plt.xlabel(\"Time (s)\")\n",
    "plt.ylabel(\"Velocity\")\n",
    "plt.show()\n",
    "\n",
    "print(\"Figure 1\")"
   ]
  },
  {
   "cell_type": "markdown",
   "metadata": {},
   "source": [
    "## Results"
   ]
  },
  {
   "cell_type": "markdown",
   "metadata": {},
   "source": [
    "As is seen in Figure 1, when the particle crosses the radius of the well, it experienced a change in velocity. This change in velocity appears on the position graph in the sharp angle. In this instance, its velocity increased, and it experienced a force along the axis of its motion. Notably, the velocity in the other directions was unaffected.\n",
    "\n",
    "However, if the velocity was in multiple axis, they were all affected when the particle encountered the well."
   ]
  },
  {
   "cell_type": "markdown",
   "metadata": {},
   "source": [
    "## Analysis"
   ]
  },
  {
   "cell_type": "markdown",
   "metadata": {},
   "source": []
  }
 ],
 "metadata": {
  "kernelspec": {
   "display_name": "Python 3",
   "language": "python",
   "name": "python3"
  },
  "language_info": {
   "codemirror_mode": {
    "name": "ipython",
    "version": 3
   },
   "file_extension": ".py",
   "mimetype": "text/x-python",
   "name": "python",
   "nbconvert_exporter": "python",
   "pygments_lexer": "ipython3",
   "version": "3.4.5"
  }
 },
 "nbformat": 4,
 "nbformat_minor": 1
}
