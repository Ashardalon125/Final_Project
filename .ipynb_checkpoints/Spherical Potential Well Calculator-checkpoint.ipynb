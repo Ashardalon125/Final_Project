{
 "cells": [
  {
   "cell_type": "markdown",
   "metadata": {},
   "source": [
    "## Introduction"
   ]
  },
  {
   "cell_type": "markdown",
   "metadata": {},
   "source": [
    "A particle's energy can be broken into different types of energy, such as kinetic or potential energy. Further, in physics there is a concept known as a potential well, wherein an area of space with little or no potential \"height\" is bounded by areas of significantly higher potential energy.\n",
    "\n",
    "<img src=\"files/Potential Energy Well.png\">\n",
    "\n",
    "The above case is a 1D potential energy well, where the particle can \"roll\" left and right, trading its kinetic energy for potential as it \"climbs\" the slopes. Once it runs out of kinetic energy, it starts to move back towards the center, converting its potential to kinetic energy. Higher kinetic energy particles can move further up the well, while lower energy ones are trapped lower in the well. In this instance, the amount of potential is a function based on distance that eventually levels off, meaning a particle could theoretically escape the well.\n",
    "\n",
    "For the purposes of this workbook, we have a particle that is inside a spherical potential well. Like the 1D potential well, it has areas of higher and lower potential. In particular, inside the sphere has no potential, meaning the particle is free to move, while a particle outside the sphere experiences a constant force towards the center of the sphere. Because the force is independent of the distance outside the radius, it means that no particle can truly escape the well, as it will always experience a force towards the centre of the sphere.\n",
    "\n",
    "This model can be described by the equations:\n",
    "\n",
    "$$U(r) = -U_0$$\n",
    "\n",
    "$$U(r) = 0$$\n",
    "\n",
    "where $U_0$ is a positive constant.\n",
    "\n",
    "As the particle begins to move in the outside region, the potential well exerts a force on it, resulting in the generation of work. Using the kinematic equations, it can be shown that:\n",
    "$$W=Fd$$\n",
    "$$W=K_f - K_i$$\n",
    "and thus:\n",
    "$$K_f - K_i = Fd$$\n",
    "\n",
    "Given information about the particle's initial velocity and mass, the kinetic energy can be generated at any point, since it experiences no work inside the sphere (and thus between any two points inside the sphere, the kinetic energy is the same). As the particle moves up the well, it experiences a force, and travels a distance, which generates work. Thus, one can calculate its final kinetic energy after the motion. By iterating this through time steps, the particle's motion can be mapped through the 3D space."
   ]
  },
  {
   "cell_type": "markdown",
   "metadata": {},
   "source": [
    "## Numerical Model"
   ]
  },
  {
   "cell_type": "markdown",
   "metadata": {},
   "source": [
    "In order to both effectively and quickly map the motion of the particle, the program will use a step-by-step model. The program does not calculate the position based on an overall equation that perfectly models motion, but rather individual steps. Given a time span from $t_i$ to $t_f$, it can be subdivided into a user-specified number of N steps.\n",
    "$$h=(t_f - t_i)/N$$\n",
    "\n",
    "At any point, the particle also has a velocity and position, given by 3-space vectors (such that $V = [V_x,V_y,V_z]$ and similar for the position vector). Once again, referring to the kinematic equations, motion through space can be modelled as:\n",
    "$$Position_f = Position_i + Velocity*Time$$\n",
    "which in this case is:\n",
    "$$Position_{nf} = Position_{ni} + Velocity_n * h$$\n",
    "\n",
    "Each position and velocity value is generated in sequence and added to a list of values, recording the particle's behaviour from the given times in steps of $h$. However, without any further functions, the particle would just head off in one direction and never stop. The key here is the conversation of kinetic energy and potential energy. By taking the displacement of the particle over $h$ and multiplying it by the force vector (with the appropriate angle between them), the work over the span of $h$ can be determined. Once this is done, the particle's behaviour can be modelled using the following:\n",
    "$$K_i = \\frac{1}{2}*mass*v_i^{2}$$\n",
    "$$W=F*d*cos(\\theta)$$\n",
    "$$d=v_i*h$$\n",
    "$$K_f = W+K_i$$\n",
    "$$K_f = F*v_i*h*cos(\\theta) + \\frac{1}{2}*mass*v_i^{2}$$\n",
    "\n",
    "Once these are performed, the first equation is performed in reverse in order to yield the particle's new velocity, which is used for the next step as the initial velocities. Thus, each step generates the information for the next step. The accuracy is determined by N, which splits it into smaller steps as it gets larger. The smaller the step size, the more accurate the estimation becomes, but the longer it takes."
   ]
  },
  {
   "cell_type": "markdown",
   "metadata": {},
   "source": [
    "## Code"
   ]
  },
  {
   "cell_type": "code",
   "execution_count": 1,
   "metadata": {
    "collapsed": true
   },
   "outputs": [],
   "source": [
    "# Import block\n",
    "import numpy as np\n",
    "import matplotlib.pyplot as plt\n",
    "from mpl_toolkits.mplot3d import Axes3D\n",
    "import math\n",
    "%matplotlib inline"
   ]
  },
  {
   "cell_type": "code",
   "execution_count": 106,
   "metadata": {
    "collapsed": true
   },
   "outputs": [],
   "source": [
    "# Function definitions\n",
    "\n",
    "def potential_Restriction(quick = False):\n",
    "    '''Restricts the possible values of potential to purely positive values, as defined in the problem set up.\n",
    "    The \"quick\" option defaults to a set value to make testing easy.\n",
    "    \n",
    "    returns: The value of the Potential Well's non-zero component'''\n",
    "    \n",
    "    passing = False\n",
    "    if (quick == True):\n",
    "        return 5\n",
    "    else:\n",
    "        while(passing == False):\n",
    "            U = input(\"Please enter a positive value of potential energy in Joules: \")\n",
    "            if (U > 0):\n",
    "                passing = True\n",
    "            else:\n",
    "                passing = False\n",
    "    return U\n",
    "\n",
    "def well_check (position, radius):\n",
    "    '''This functions checks the current position against the radius of the well and returns True if the\n",
    "    particle is in the well, False if it isn't\n",
    "    \n",
    "    Arguments:\n",
    "    position: The current position of the particle in 3D space\n",
    "    radius: The radius of the spherical potential well'''\n",
    "    \n",
    "    magnitude = 0\n",
    "    for p in position:\n",
    "        magnitude += p**2\n",
    "        \n",
    "    magnitude = magnitude ** 0.5\n",
    "    \n",
    "    if (magnitude < radius):\n",
    "        return True\n",
    "    else:\n",
    "        return False\n",
    "    \n",
    "    \n",
    "\n",
    "def force_check (position, radius, force):\n",
    "    '''Calculates the current radial distance, and returns the current force value at that point,\n",
    "    including direction.\n",
    "    \n",
    "    Arguments:\n",
    "    position: a three part vector indicating the x,y,z components of the particle's current position\n",
    "    radius: a constant value of the radius of the spherical potential well\n",
    "    force: the value of force outside the potential well\n",
    "    \n",
    "    returns: Force at the current position'''\n",
    "    \n",
    "    sum = 0\n",
    "    impulse = []\n",
    "    for i in range(3): #Note, this is because it is being performed in 3D space\n",
    "        sum +=(position[i]**2)\n",
    "        \n",
    "    sum = sum**0.5\n",
    "    \n",
    "    if (sum > radius):\n",
    "        for i in range(len(position)):\n",
    "            position[i] = position[i]/sum\n",
    "            impulse.append(-1 * (position[i]) * force)\n",
    "        return impulse\n",
    "    \n",
    "    else:\n",
    "        return [0,0,0]\n",
    "    \n",
    "\n",
    "def new_position (position, velocity, timestep, Work=False):\n",
    "    '''Takes the current position and velocity with the time step to create the next set of coordinates\n",
    "    in the particle's path.\n",
    "    \n",
    "    Arguments:\n",
    "    position: The particle's current position\n",
    "    velocity: The particle's current velocity\n",
    "    timestep: The discrete time the motion occurs over\n",
    "    Work: A true/false arguement that determines whether this function returns the displacement instead\n",
    "    \n",
    "    returns: New position coordinates or displacement'''\n",
    "    \n",
    "    Position2 = []\n",
    "    for i in len(position):\n",
    "        Position2.append(position[i] + velocity[i] * time )\n",
    "    \n",
    "    if (Work == False):\n",
    "        return Position2\n",
    "    \n",
    "    else:\n",
    "        displacement = 0\n",
    "        for j in len(position):\n",
    "            displacement += (Position2[j] - position[j]) ** 2\n",
    "        displacement = displacement ** 0.5\n",
    "        \n",
    "        return displacement"
   ]
  },
  {
   "cell_type": "code",
   "execution_count": 108,
   "metadata": {
    "collapsed": true
   },
   "outputs": [],
   "source": [
    "# Constant block\n",
    "R = 1                                     # Defines the length of the radius\n",
    "U_0 = potential_Restriction(quick = True) # A value of the potential energy in Joules\n",
    "P_0 = 5                                   # Defines the initial momentum of the particle\n",
    "K_0 = [100,100,100]                       # Defines the initial kinetic energy of the particle\n",
    "initial_position = [0,0,0]                # Defines the starting position of the particle\n",
    "mass = 1000                               # Defines mass of particle; default uses proton for sampling\n",
    "Velocity = []\n",
    "for k in K_0:\n",
    "    Velocity.append(math.sqrt(2*k/mass))\n",
    "    \n",
    "# Time and steps block\n",
    "t_0 = 0                                   # Starting time\n",
    "t_final = 1                               # End time\n",
    "steps = 1000                              # Number of steps in time; increase for more precision\n",
    "time_step = (t_final-t_0)/steps\n",
    "\n",
    "# List block\n",
    "new_position = []\n",
    "times = []\n",
    "new_velocity = []"
   ]
  },
  {
   "cell_type": "code",
   "execution_count": 115,
   "metadata": {
    "collapsed": true
   },
   "outputs": [],
   "source": [
    "# Obtain only one set of coordinates at a time\n",
    "x_coords = []\n",
    "y_coords = []\n",
    "z_coords = []\n",
    "\n",
    "for i in range(len(new_position)):\n",
    "    x_coords.append(new_position[i][0])\n",
    "    y_coords.append(new_position[i][1])\n",
    "    z_coords.append(new_position[i][2])"
   ]
  }
 ],
 "metadata": {
  "kernelspec": {
   "display_name": "Python 3",
   "language": "python",
   "name": "python3"
  },
  "language_info": {
   "codemirror_mode": {
    "name": "ipython",
    "version": 3
   },
   "file_extension": ".py",
   "mimetype": "text/x-python",
   "name": "python",
   "nbconvert_exporter": "python",
   "pygments_lexer": "ipython3",
   "version": "3.6.3"
  }
 },
 "nbformat": 4,
 "nbformat_minor": 1
}
