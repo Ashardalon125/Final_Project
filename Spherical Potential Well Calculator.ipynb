{
 "cells": [
  {
   "cell_type": "markdown",
   "metadata": {},
   "source": [
    "## Introduction"
   ]
  },
  {
   "cell_type": "markdown",
   "metadata": {},
   "source": [
    "On the micro scale, the universe is comprised of particles. Fundamentally, these particles experience some of the same interactions with the world that larger objects do, and have some of the same properties, such as mass. One quality which has an analogue in both scales is potential energy.\n",
    "\n",
    "In macro scale physics, potential energy is often qualified by height from a body of mass, and requires energy to increase, with objects wanting to minimize their potential energy. In particle physics, potentials exist around most particles, and arrangements of them can have a potential gradient, which look similar to the landscape of a large body in regards to the magnitudes of potential energies.\n",
    "\n",
    "Modelling the motion and behaviour of a particle in a region of potential energy is dependent on the landscape of the potential. For a simple orientation, such as a single charged particle, it can most often be modelled using deflections or an analogue of free-falling. However, as more bodies become involved and the field becomes more complex, the motion of a particle becomes harder to model.\n",
    "\n",
    "<table class=\"image\">\n",
    "<caption align=\"bottom\">{{From user Koantum on Wikipedia}}</caption>\n",
    "<tr><td><img src=\"files/Potential Energy Well.png\" alt=\"From user Koantum on Wikipedia\"/></td></tr>\n",
    "</table>\n",
    "\n",
    "$$U(r >= R) = -U_0$$\n",
    "\n",
    "$$U(r < R) = 0$$\n",
    "\n",
    "\n",
    "A particularly difficult example in the simplest of formations is the finite potential well. This structure is defined as an area of lower potential in an otherwise flat potential field. However, the factor that makes this non-trivial is the fact that the well has sheer walls; they cannot be classically defined as having a slope. This is important because the force a particle experiences as it moves through a field is relative to the slope of the potential change. (1)\n",
    "\n",
    "\n",
    "$$\\vec{F} = -\\hat{x}\\frac{\\partial{U}}{\\partial{x}}$$\n",
    "$$\\vec{F} = m\\frac{\\partial^2{\\vec{x}}}{\\partial{t^2}}$$\n",
    "$$\\frac{\\mathrm{dv_x} }{\\mathrm{d} t}=-\\frac{1}{m}\\frac{\\partial U}{\\partial x}$$"
   ]
  },
  {
   "cell_type": "markdown",
   "metadata": {},
   "source": [
    "## Numerical Model - Euler's Method & The Heaviside Step Function"
   ]
  },
  {
   "cell_type": "markdown",
   "metadata": {},
   "source": [
    "In order to most effectively model this situation, we must utilize some way of modelling the square well. Given the boundary conditions, a complex polynomial could be used, but fitting such a function would be difficult. Instead, the function that is used in this notebook is the Heaviside Step Function.\n",
    "\n",
    "<table class=\"image\">\n",
    "<caption align=\"bottom\">{{From user Omegatron on Wikipedia}}</caption>\n",
    "<tr><td><img src=\"files/Heaviside Step Function.png\" alt=\"From user Omegatron on Wikipedia\"/></td></tr>\n",
    "</table>\n",
    "\n",
    "The Heaviside Step Function is a well defined, discontinuous function whose derivative is the Dirac-Delta Function. Both functions, however, are discontinuous. As defined previously, the force a particle experiences is relative to the slope of the potential at that point. Traditionally, this would be a problem. However, an approximation of the Heaviside exists (2) that is a continuous function that can be scaled and stretched to serve any square well function.\n",
    "\n",
    "$$H(x) = \\frac{1}{1+e^{-2k(x-R)}}$$\n",
    "$$\\frac{\\partial H(x)}{\\partial x}=\\frac{2k(x-r)e^{-2k(x-R)}}{(1+e^{-2k(x-R)})^2}$$\n",
    "\n",
    "In this notebook, the function of potential is defined piecewise, with one one component for when $X<0$ and one for when $X>=0$. Notably, the two functions are equal at 0, and as they approach infinity. However, their derivatives are not. By taking the slope of the potential at a given point, the instantaneous force the particle is under can be calculated.\n",
    "\n",
    "In order to model the whole motion of the particle, an Euler Approximation is used. At each step, the particle (which possesses a mass m) experiences a force (or lack of one), which gives rise to a proportional acceleration. The particle is initialized with both an initial position and velocity, both restricted to 1D coordinates in this notebook. Using a finite, constant timestep, the motion of the particle can be modelled by the kinematic equations. Given the velocity and position at the beginning of a timestep, its position at the end of the timestep can be approximated.\n",
    "\n",
    "Compared to a normal kinematic model, however, the acceleration is not constant. Thus, the velocity must also be also be subject to change over time. In a given time step, the acceleration can be treated as constant. Thus, the velocity at the end will be different than the beginning, and this value is passed as the constant velocity to the next segment. By repeating this, an approximation of the movement can be generated. The smaller the steps, the more this holds true, but the longer the model takes."
   ]
  },
  {
   "cell_type": "markdown",
   "metadata": {},
   "source": [
    "## Code"
   ]
  },
  {
   "cell_type": "code",
   "execution_count": 2,
   "metadata": {
    "collapsed": true
   },
   "outputs": [],
   "source": [
    "# Import block\n",
    "import numpy as np\n",
    "import matplotlib.pyplot as plt\n",
    "import math\n",
    "import doctest\n",
    "%matplotlib inline"
   ]
  },
  {
   "cell_type": "code",
   "execution_count": 10,
   "metadata": {},
   "outputs": [
    {
     "data": {
      "text/plain": [
       "TestResults(failed=0, attempted=7)"
      ]
     },
     "execution_count": 10,
     "metadata": {},
     "output_type": "execute_result"
    }
   ],
   "source": [
    "# Function definitions\n",
    "# k is universal constant\n",
    "k = 3\n",
    "\n",
    "def heaviside_Function (position, radius, potential):\n",
    "    '''Defines the Heaviside Function for the well\n",
    "    Note: Both this and the derivative have been scaled and shifted\n",
    "    \n",
    "    Arguments:\n",
    "    position: vector of the particle's position in one axis\n",
    "    radius: scalar length of radius\n",
    "    potential: the potential of the well\n",
    "    \n",
    "    returns: value of potential at the current position'''\n",
    "    if (position >=0):\n",
    "        return potential/(1+np.exp(-2*k*(position-radius)))-potential\n",
    "    else:\n",
    "        return -potential/(1+np.exp(-2*k*(position+radius)))+potential\n",
    "\n",
    "def heaviside_derivative (position, radius, potential):\n",
    "    '''Defines the derivative at the current position\n",
    "    \n",
    "    Arguments:\n",
    "    position: vector of the particle's position in one axis\n",
    "    radius: scalar length of radius\n",
    "    potential: the potential of the well\n",
    "    \n",
    "    returns: value of potential at the current position'''\n",
    "    if (position >= 0):\n",
    "        numerator = 2*k*potential*np.exp(2*k*(position-radius))\n",
    "        denominator = np.exp(2*k*(position-radius))+1\n",
    "    else:\n",
    "        numerator = 2*k*potential*np.exp(2*k*(position+radius))\n",
    "        denominator = np.exp(2*k*(position+radius))+1\n",
    "    \n",
    "    return numerator/(denominator**2)\n",
    "\n",
    "def potential_Restriction(U_test = False):\n",
    "    '''Restricts the possible values of potential to purely positive values, as defined in the problem set up.\n",
    "    The \"U_test\" option defaults to a set value to make testing easy.\n",
    "    \n",
    "    >>> potential_Restriction(U_test=True)\n",
    "    5000\n",
    "    \n",
    "    returns: The force outside the radius\n",
    "    '''\n",
    "    \n",
    "    passing = False\n",
    "    if (U_test == True):\n",
    "        return 5000\n",
    "    else:\n",
    "        while(passing == False):\n",
    "            U = int(input(\"Please enter a positive value of potential energy in Joules: \"))\n",
    "            if (U > 0):\n",
    "                passing = True\n",
    "            else:\n",
    "                passing = False\n",
    "        return U\n",
    "\n",
    "\n",
    "def well_check (position, radius):\n",
    "    '''Determines whether the particle is in the well (radius inclusive)\n",
    "    \n",
    "    >>> well_check (0, 1)\n",
    "    True\n",
    "    \n",
    "    >>> well_check (3, 1)\n",
    "    False\n",
    "    \n",
    "    >>> well_check (1, 1)\n",
    "    True\n",
    "    \n",
    "    Arguments:\n",
    "    position: position of particle\n",
    "    radius: scalar magnitude of radius\n",
    "    \n",
    "    returns: truth value of whether it is inside or outside well'''\n",
    "\n",
    "    # Compare position against radius and return result\n",
    "    if (abs(position) <= radius):\n",
    "        return True\n",
    "    else:\n",
    "        return False\n",
    "    \n",
    "def displacement (position, velocity, timestep):\n",
    "    '''Generates the new position of the particle\n",
    "    \n",
    "    >>> displacement (0, 1, 1)\n",
    "    1\n",
    "    \n",
    "    >>> displacement (-1, 1, 1)\n",
    "    0\n",
    "    \n",
    "    >>> displacement (0, 2, 2)\n",
    "    4\n",
    "    \n",
    "    Arguments:\n",
    "    position: position of particle\n",
    "    velocity: velocity of particle\n",
    "    timestep: time difference between steps\n",
    "    \n",
    "    returns: new position'''\n",
    "    \n",
    "    \n",
    "    return position + velocity * timestep\n",
    "\n",
    "def velocity_change(velocity, position, radius, potential, timestep, mass):\n",
    "    '''Uses heaviside function and timestep to calculate new velocity\n",
    "    \n",
    "    Arguments:\n",
    "    velocity: particle velocity\n",
    "    position: particle position\n",
    "    radius: well radius\n",
    "    potential: potential of inside well\n",
    "    timestep: time difference between steps\n",
    "    mass: mass of particle\n",
    "    \n",
    "    returns: new velocity'''\n",
    "    \n",
    "    # Calculate accelerations from Heaviside and use to find new velocities\n",
    "    acceleration = 1 * (1/mass) * heaviside_derivative(position, radius, potential)\n",
    "    velocity = velocity + acceleration * timestep\n",
    "    \n",
    "    return velocity\n",
    "\n",
    "def total_energy (velocity, mass, potential):\n",
    "    '''Produces the value of total energy at all times\n",
    "    \n",
    "    Arguments:\n",
    "    velocity: current velocity\n",
    "    mass: mass of particle\n",
    "    potential: potential at current location\n",
    "    \n",
    "    returns: total energy'''\n",
    "    \n",
    "    kinetic = 0.5 * mass * (velocity ** 2)\n",
    "    energy = kinetic + potential\n",
    "    \n",
    "    return energy\n",
    "\n",
    "def motion_generator (iPosition, iVelocity, fTime, iTime, steps, radius, mass):\n",
    "    '''Generates the motion data set\n",
    "    \n",
    "    Arguments:\n",
    "    iPosition: initial position\n",
    "    iVelocity: initial velocity\n",
    "    fTime: ending time\n",
    "    iTime: starting time\n",
    "    steps: number of steps between start and finish\n",
    "    radius: length of spherical radius\n",
    "    mass: mass of particle\n",
    "    \n",
    "    returns:\n",
    "    positions: list of positions\n",
    "    velocities: list of velocities\n",
    "    times: list of paired times'''\n",
    "    \n",
    "    # Assign value of well height\n",
    "    potential_well = potential_Restriction(U_test = True)\n",
    "    \n",
    "    # Initialize lists\n",
    "    positions = []\n",
    "    velocities = []\n",
    "    energies = []\n",
    "    times = []\n",
    "    positions.append(iPosition)\n",
    "    velocities.append(iVelocity)\n",
    "    times.append(iTime)\n",
    "    if(well_check(iPosition,radius) == True):\n",
    "        energies.append(0)\n",
    "    else:\n",
    "        energies.append(potential_well)\n",
    "    \n",
    "    # Create time step\n",
    "    h = (fTime - iTime) / steps\n",
    "    \n",
    "    count = 0\n",
    "    while (count < steps):\n",
    "        # Calculate current energy total\n",
    "        PotentialA = heaviside_Function(positions[count], radius, potential_well)\n",
    "        energies.append(total_energy(velocities[count], mass, PotentialA))\n",
    "        \n",
    "        # Calculate new position\n",
    "        positions.append(displacement(positions[count], velocities[count], h))\n",
    "        \n",
    "        # Calculate new velocity\n",
    "        velocities.append(velocity_change(velocities[count], positions[count], radius, PotentialA, h, mass))\n",
    "        \n",
    "        # Increment count and times\n",
    "        count += 1\n",
    "        times.append(iTime + count*h)\n",
    "    return positions, velocities, times, energies\n",
    "\n",
    "doctest.testmod()"
   ]
  },
  {
   "cell_type": "code",
   "execution_count": 11,
   "metadata": {
    "collapsed": true
   },
   "outputs": [],
   "source": [
    "# Constant block\n",
    "R = 1                                      # Defines the length of the radius\n",
    "Velocity = 0.5                         # Defines the initial velocity of the particle\n",
    "initial_position = -5                 # Defines the starting position of the particle\n",
    "mass = 10000                                # Defines mass of particle; default uses proton for sampling\n",
    "    \n",
    "# Time and steps block\n",
    "t_0 = 0                                    # Starting time\n",
    "t_final = 10                                # End time\n",
    "steps = 100000                               # Number of steps in time; increase for more precision\n",
    "\n",
    "# Test case\n",
    "p1, v1, time, energy = motion_generator (initial_position, Velocity, t_final, t_0, steps, R, mass)\n",
    "\n",
    "# Remove extreme start value\n",
    "p1 = p1[1::]\n",
    "v1 = v1[1::]\n",
    "time = time[1::]\n",
    "energy = energy[1::]"
   ]
  },
  {
   "cell_type": "markdown",
   "metadata": {},
   "source": [
    "## Results"
   ]
  },
  {
   "cell_type": "code",
   "execution_count": 12,
   "metadata": {},
   "outputs": [
    {
     "data": {
      "image/png": "[encoded data removed]",
      "text/plain": [
       "<matplotlib.figure.Figure at 0x2060f3a0860>"
      ]
     },
     "metadata": {},
     "output_type": "display_data"
    }
   ],
   "source": [
    "initial_position = 0\n",
    "p1, v1, time, energy = motion_generator (initial_position, Velocity, t_final, t_0, steps, R, mass)\n",
    "\n",
    "plt.subplot (2,1,1)\n",
    "plt.plot (time, p1)\n",
    "plt.title(\"Figure 1\")\n",
    "plt.xlabel(\"Time (s)\")\n",
    "plt.ylabel(\"Position(m)\")\n",
    "plt.savefig('Figure 1 Position.png')\n",
    "\n",
    "plt.subplot (2,1,2)\n",
    "plt.plot (time,v1)\n",
    "plt.xlabel(\"Time (s)\")\n",
    "plt.ylabel(\"Velocity(m/s)\")\n",
    "plt.savefig('Figure 1 Velocity.png')\n",
    "\n",
    "plt.tight_layout()\n",
    "plt.show()"
   ]
  },
  {
   "cell_type": "markdown",
   "metadata": {},
   "source": [
    "Figure 1 shows a particle that starts inside the well and has less total energy than the potential difference. As seen here, the particle experiences a sinusoidal motion that can be seen in the position graph. Its velocity also oscillates between positive and negative. While the particle is within the bounds of the well, the velocity is constant, reflecting the lack of potential difference inside the well."
   ]
  },
  {
   "cell_type": "code",
   "execution_count": 13,
   "metadata": {},
   "outputs": [
    {
     "data": {
      "image/png": "[encoded data removed]",
      "text/plain": [
       "<matplotlib.figure.Figure at 0x2060fc6b080>"
      ]
     },
     "metadata": {},
     "output_type": "display_data"
    }
   ],
   "source": [
    "Velocity = 1\n",
    "t_final = 2\n",
    "p1, v1, time, energy = motion_generator (initial_position, Velocity, t_final, t_0, steps, R, mass)\n",
    "\n",
    "plt.subplot (2,1,1)\n",
    "plt.plot (time, p1)\n",
    "plt.title(\"Figure 2\")\n",
    "plt.xlabel(\"Time (s)\")\n",
    "plt.ylabel(\"Position(m)\")\n",
    "plt.savefig('Figure 2 Position.png')\n",
    "\n",
    "plt.subplot (2,1,2)\n",
    "plt.plot (time,v1)\n",
    "plt.xlabel(\"Time (s)\")\n",
    "plt.ylabel(\"Velocity(m/s)\")\n",
    "plt.savefig('Figure 2 Velocity.png')\n",
    "\n",
    "plt.tight_layout()\n",
    "plt.show()"
   ]
  },
  {
   "cell_type": "markdown",
   "metadata": {},
   "source": [
    "Figure 2 shows a particle that starts inside the well, but with a higher velocity than the previous Figure. In this instance, it experiences the same amount of force, but because its velocity was higher to start with, it passes the edge of the well before its velocity would change sign. Once it is far enough away from the edge of the well, it no longer experiences a force, and continues with a constant velocity. In particular, the magnitude of the velocity after escaping the well is less than inside the well, reflecting the exchange of kinetic energy to potential energy in the process."
   ]
  },
  {
   "cell_type": "code",
   "execution_count": 9,
   "metadata": {},
   "outputs": [
    {
     "data": {
      "image/png": "[encoded data removed]",
      "text/plain": [
       "<matplotlib.figure.Figure at 0x206130b83c8>"
      ]
     },
     "metadata": {},
     "output_type": "display_data"
    }
   ],
   "source": [
    "initial_position = -2\n",
    "t_0 = 1\n",
    "t_final = 2.5\n",
    "p1, v1, time, energy = motion_generator (initial_position, Velocity, t_final, t_0, steps, R, mass)\n",
    "\n",
    "plt.subplot (2,1,1)\n",
    "plt.plot (time, p1)\n",
    "plt.title(\"Figure 3\")\n",
    "plt.xlabel(\"Time (s)\")\n",
    "plt.ylabel(\"Position(m)\")\n",
    "\n",
    "plt.subplot (2,1,2)\n",
    "plt.plot (time,v1)\n",
    "plt.xlabel(\"Time (s)\")\n",
    "plt.ylabel(\"Velocity(m/s)\")\n",
    "\n",
    "plt.tight_layout()\n",
    "plt.show()"
   ]
  },
  {
   "cell_type": "markdown",
   "metadata": {},
   "source": [
    "Figure 3 shows a particle that starts outside of the well with a velocity towards the well. At first, it moves with a constant velocity, but as it approaches the edge of the well, it begins to accelerate. Once inside the well, it no longer experiences an acceleration and its velocity returns to a constant. However, unlike the previous example, this velocity is greater than the initial velocity, as it has converted potential energy to kinetic."
   ]
  },
  {
   "cell_type": "code",
   "execution_count": 14,
   "metadata": {},
   "outputs": [
    {
     "data": {
      "image/png": "[encoded data removed]",
      "text/plain": [
       "<matplotlib.figure.Figure at 0x2bdf7a48208>"
      ]
     },
     "metadata": {},
     "output_type": "display_data"
    }
   ],
   "source": [
    "Velocity = -1\n",
    "initial_position = 3\n",
    "t_0 = 0\n",
    "t_final = 5\n",
    "p1, v1, time, energy = motion_generator (initial_position, Velocity, t_final, t_0, steps, R, mass)\n",
    "\n",
    "plt.subplot (2,1,1)\n",
    "plt.plot (time, p1)\n",
    "plt.title(\"Figure 4\")\n",
    "plt.xlabel(\"Time (s)\")\n",
    "plt.ylabel(\"Position(m)\")\n",
    "\n",
    "plt.subplot (2,1,2)\n",
    "plt.plot (time,v1)\n",
    "plt.xlabel(\"Time (s)\")\n",
    "plt.ylabel(\"Velocity(m/s)\")\n",
    "\n",
    "plt.tight_layout()\n",
    "plt.show()"
   ]
  },
  {
   "cell_type": "markdown",
   "metadata": {},
   "source": [
    "Figure 4 serves to demonstrate that the same behaviour occurs if the particle starts on the other side, with a velocity towards the well. As an additional note, the time has been set such that the particle’s motion can be seen on both sides of the well. Once the particle is emerges on the other side of the potential well, it returns to its original velocity, showing the conservation of its energy through the well."
   ]
  },
  {
   "cell_type": "code",
   "execution_count": 7,
   "metadata": {},
   "outputs": [
    {
     "data": {
      "image/png": "[encoded data removed]",
      "text/plain": [
       "<matplotlib.figure.Figure at 0x2060f37de80>"
      ]
     },
     "metadata": {},
     "output_type": "display_data"
    }
   ],
   "source": [
    "initial_position = -6\n",
    "Velocity = 2\n",
    "R = 4\n",
    "p1, v1, time, energy = motion_generator (initial_position, Velocity, t_final, t_0, steps, R, mass)\n",
    "\n",
    "plt.subplot (2,1,1)\n",
    "plt.plot (time, p1)\n",
    "plt.title(\"Figure 5\")\n",
    "plt.xlabel(\"Time (s)\")\n",
    "plt.ylabel(\"Position(m)\")\n",
    "plt.savefig('Figure 5 Position.png')\n",
    "\n",
    "plt.subplot (2,1,2)\n",
    "plt.plot (time,v1)\n",
    "plt.xlabel(\"Time (s)\")\n",
    "plt.ylabel(\"Velocity(m/s)\")\n",
    "plt.savefig('Figure 5 Velocity.png')\n",
    "\n",
    "plt.tight_layout()\n",
    "plt.show()"
   ]
  },
  {
   "cell_type": "markdown",
   "metadata": {},
   "source": [
    "Figure 5 illustrates the results on a larger well. By extending the radius of the well, the space where the particle moves in a lower potential is increased. However, despite the larger area of lower potential, the general trend in motion is preserved. A particle inside the well moves with constant velocity, and the total energy of the particle determines whether or not it can escape from the well. Thus, a particle that has more total energy than the well walls can always escape, no matter how large the well is."
   ]
  },
  {
   "cell_type": "markdown",
   "metadata": {},
   "source": [
    "## Analysis"
   ]
  },
  {
   "cell_type": "markdown",
   "metadata": {},
   "source": [
    "The results above are consistent with the predictions of classical physics; a particle moving in a high potential region that transitions into a lower potential will gain kinetic energy. Similarly, a particle moving from a low potential region to a high one will lose it.\n",
    "\n",
    "By using an approximation of the Heaviside Step Function, the finite square potential well can be modelled with results consistent with the theoretical models. Regardless of which side of the well the particle starts on, or how fast it is initially moving, a particle that starts in the high region will be able to escape the low region, while only particles with high energy can escape from the low region to the high region. A particle with less than the required energy will oscillate between the two walls with roughly constant velocity."
   ]
  },
  {
   "cell_type": "markdown",
   "metadata": {},
   "source": [
    "## Scientific Summary"
   ]
  },
  {
   "cell_type": "markdown",
   "metadata": {},
   "source": [
    "This project could be used to abstract more complex fields. For instance, multiple wells could be defined, dividing the region piecewise in order for the approximations to hold. If generalized, it could even be used to produce a series of finite wells, with a desired spacing between them and maximum number of wells.\n",
    "\n",
    "Assuming that the motion of the particle in space is independent in direction, it could also be generalized to suit 2D or 3D modelling, as described in the introduction. So long as the function of the potential along an axis is defined and not dependent on the other axes, then the motion of each component can be independently and tracked to show the particle’s orbit through the potential space. If properly generalized, the functions could describe the behaviour of even multiple variable dependent functions, so long as the derivative (partial or otherwise) were known.\n",
    "\n",
    "Finally, looking at the data can give us an idea of the behaviour of different varieties of particles. Particles with the same mass, but different initial velocities might interact with the well differently, while particles with the same velocity but different masses will also react differently. By mapping multiple variants of the same set of conditions with one changing variable, an understanding of the particle’s behaviour can be produced and used to approximate information about potential real world particles.\n"
   ]
  },
  {
   "cell_type": "markdown",
   "metadata": {},
   "source": [
    "## Personal Summary"
   ]
  },
  {
   "cell_type": "markdown",
   "metadata": {},
   "source": [
    "This project taught me quite a few different things. Firstly, it taught me a new model in the Heaviside Step Function as a way of representing a delta function. It also taught me about how to scale and move functions, which was key to getting the function to work as the potential of the problem. Secondly, it also served to help refine my coding skills. I was forced to try and find ways of optimizing the program, and spent a lot of effort trying to minimize the amount of times functions were called unnecessarily. Making sure the program ran smoothly was a goal from the start, and integrating that into the functions as they were being written was a challenge that ultimately saved time in the end.\n",
    "\n",
    "It also taught me a few things about the formatting of a code. From the start, I was working on instituting docstrings, which was helpful when it came time to test functions. I knew exactly what each function was using, and how it was using those, as well as what I could expect it to return. This made tracking inputs and outputs phenomenally more easy. An additional thing I cemented was the ability to select what was returned based on certain conditions. The Potential Restriction Function is capable of returning a set value for fast testing if a certain line is put into the main code. This made testing the function much faster than it would have otherwise been, but perfectly capable of being adapted to suit user input."
   ]
  },
  {
   "cell_type": "markdown",
   "metadata": {},
   "source": [
    "## References"
   ]
  },
  {
   "cell_type": "markdown",
   "metadata": {},
   "source": [
    "1) Firk F.W.K. Essential Physics. Yale 2000.\n",
    "\n",
    "2) Bracewell R. The Fourier Transform & Its Applications. 3rd ed. McGraw-Hill, 2000."
   ]
  }
 ],
 "metadata": {
  "kernelspec": {
   "display_name": "Python 3",
   "language": "python",
   "name": "python3"
  },
  "language_info": {
   "codemirror_mode": {
    "name": "ipython",
    "version": 3
   },
   "file_extension": ".py",
   "mimetype": "text/x-python",
   "name": "python",
   "nbconvert_exporter": "python",
   "pygments_lexer": "ipython3",
   "version": "3.6.3"
  }
 },
 "nbformat": 4,
 "nbformat_minor": 1
}
