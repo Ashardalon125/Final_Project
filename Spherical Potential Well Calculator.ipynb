{
 "cells": [
  {
   "cell_type": "markdown",
   "metadata": {},
   "source": [
    "In quantum physics, particles are often contained in regions known as potential wells. These are areas where the energy of a particle contained within is converting part of its total energy to potential energy, leaving it with the remaining amount as a kinetic energy. Often times, a potential well is categorized by infinite walls around the focal area, preventing the particle from existing for a long time outside the walls before being forced back in or dying off completely.\n",
    "\n",
    "In this particular instance, a well defined spherical potential well is used. The force itself is one of two discrete values, based on its radius. If r is greater than the edge of the sphere, R, then:\n",
    "$$U(r) = -U_0$$\n",
    "where $U_0$ is a positive constant. If it is between 0 and the edge, then:\n",
    "$$U(r) = 0$$"
   ]
  },
  {
   "cell_type": "code",
   "execution_count": 1,
   "metadata": {
    "collapsed": true
   },
   "outputs": [],
   "source": [
    "# Import block\n",
    "import numpy as np\n",
    "import matplotlib.pyplot as plt\n",
    "from mpl_toolkits.mplot3d import Axes3D\n",
    "import math\n",
    "%matplotlib inline"
   ]
  },
  {
   "cell_type": "code",
   "execution_count": 106,
   "metadata": {
    "collapsed": true
   },
   "outputs": [],
   "source": [
    "# Function definitions\n",
    "\n",
    "def potential_Restriction(quick = False):\n",
    "    '''Restricts the possible values of potential to purely positive values, as defined in the problem set up.\n",
    "    The \"quick\" option defaults to a set value to make testing easy.\n",
    "    \n",
    "    returns: The value of the Potential Well's non-zero component'''\n",
    "    \n",
    "    passing = False\n",
    "    if (quick == True):\n",
    "        return 5\n",
    "    else:\n",
    "        while(passing == False):\n",
    "            U = input(\"Please enter a positive value of potential energy in Joules: \")\n",
    "            if (U > 0):\n",
    "                passing = True\n",
    "            else:\n",
    "                passing = False\n",
    "    return U\n",
    "\n",
    "def well_check (position, radius):\n",
    "    '''This functions checks the current position against the radius of the well and returns True if the\n",
    "    particle is in the well, False if it isn't\n",
    "    \n",
    "    Arguments:\n",
    "    position: The current position of the particle in 3D space\n",
    "    radius: The radius of the spherical potential well'''\n",
    "    \n",
    "    magnitude = 0\n",
    "    for p in position:\n",
    "        magnitude += p**2\n",
    "        \n",
    "    magnitude = magnitude ** 0.5\n",
    "    \n",
    "    if (magnitude < radius):\n",
    "        return True\n",
    "    else:\n",
    "        return False\n",
    "    \n",
    "    \n",
    "\n",
    "def force_check (position, radius, force):\n",
    "    '''Calculates the current radial distance, and returns the current force value at that point,\n",
    "    including direction.\n",
    "    \n",
    "    Arguments:\n",
    "    position: a three part vector indicating the x,y,z components of the particle's current position\n",
    "    radius: a constant value of the radius of the spherical potential well\n",
    "    force: the value of force outside the potential well\n",
    "    \n",
    "    returns: Force at the current position'''\n",
    "    \n",
    "    sum = 0\n",
    "    impulse = []\n",
    "    for i in range(3): #Note, this is because it is being performed in 3D space\n",
    "        sum +=(position[i]**2)\n",
    "        \n",
    "    sum = sum**0.5\n",
    "    \n",
    "    if (sum > radius):\n",
    "        for i in range(len(position)):\n",
    "            position[i] = position[i]/sum\n",
    "            impulse.append(-1 * (position[i]) * force)\n",
    "        return impulse\n",
    "    \n",
    "    else:\n",
    "        return [0,0,0]\n",
    "    \n",
    "\n",
    "def new_position (position, velocity, timestep, Work=False):\n",
    "    '''Takes the current position and velocity with the time step to create the next set of coordinates\n",
    "    in the particle's path.\n",
    "    \n",
    "    Arguments:\n",
    "    position: The particle's current position\n",
    "    velocity: The particle's current velocity\n",
    "    timestep: The discrete time the motion occurs over\n",
    "    Work: A true/false arguement that determines whether this function returns the displacement instead\n",
    "    \n",
    "    returns: New position coordinates or displacement'''\n",
    "    \n",
    "    Position2 = []\n",
    "    for i in len(position):\n",
    "        Position2.append(position[i] + velocity[i] * time )\n",
    "    \n",
    "    if (Work == False):\n",
    "        return Position2\n",
    "    \n",
    "    else:\n",
    "        displacement = 0\n",
    "        for j in len(position):\n",
    "            displacement += (Position2[j] - position[j]) ** 2\n",
    "        displacement = displacement ** 0.5\n",
    "        \n",
    "        return displacement"
   ]
  },
  {
   "cell_type": "code",
   "execution_count": 108,
   "metadata": {
    "collapsed": true
   },
   "outputs": [],
   "source": [
    "# Constant block\n",
    "R = 1                                     # Defines the length of the radius\n",
    "U_0 = potential_Restriction(quick = True) # A value of the potential energy in Joules\n",
    "P_0 = 5                                   # Defines the initial momentum of the particle\n",
    "K_0 = [100,100,100]                       # Defines the initial kinetic energy of the particle\n",
    "initial_position = [0,0,0]                # Defines the starting position of the particle\n",
    "mass = 1000                               # Defines mass of particle; default uses proton for sampling\n",
    "Velocity = []\n",
    "for k in K_0:\n",
    "    Velocity.append(math.sqrt(2*k/mass))\n",
    "    \n",
    "# Time and steps block\n",
    "t_0 = 0                                   # Starting time\n",
    "t_final = 1                               # End time\n",
    "steps = 1000                              # Number of steps in time; increase for more precision\n",
    "time_step = (t_final-t_0)/steps\n",
    "\n",
    "# List block\n",
    "new_position = []\n",
    "times = []\n",
    "new_velocity = []"
   ]
  },
  {
   "cell_type": "code",
   "execution_count": 115,
   "metadata": {
    "collapsed": true
   },
   "outputs": [],
   "source": [
    "# Obtain only one set of coordinates at a time\n",
    "x_coords = []\n",
    "y_coords = []\n",
    "z_coords = []\n",
    "\n",
    "for i in range(len(new_position)):\n",
    "    x_coords.append(new_position[i][0])\n",
    "    y_coords.append(new_position[i][1])\n",
    "    z_coords.append(new_position[i][2])"
   ]
  }
 ],
 "metadata": {
  "kernelspec": {
   "display_name": "Python 3",
   "language": "python",
   "name": "python3"
  },
  "language_info": {
   "codemirror_mode": {
    "name": "ipython",
    "version": 3
   },
   "file_extension": ".py",
   "mimetype": "text/x-python",
   "name": "python",
   "nbconvert_exporter": "python",
   "pygments_lexer": "ipython3",
   "version": "3.6.3"
  }
 },
 "nbformat": 4,
 "nbformat_minor": 1
}
