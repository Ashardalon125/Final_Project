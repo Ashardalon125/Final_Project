{
 "cells": [
  {
   "cell_type": "markdown",
   "metadata": {},
   "source": [
    "In quantum physics, particles are often contained in regions known as potential wells. These are areas where the energy of a particle contained within is converting part of its total energy to potential energy, leaving it with the remaining amount as a kinetic energy. Often times, a potential well is categorized by infinite walls around the focal area, preventing the particle from existing for a long time outside the walls before being forced back in or dying off completely.\n",
    "\n",
    "In this particular instance, a well defined spherical potential well is used. The force itself is one of two discrete values, based on its radius. If r is greater than the edge of the sphere, R, then:\n",
    "$$U(r) = -U_0$$\n",
    "where $U_0$ is a positive constant. If it is between 0 and the edge, then:\n",
    "$$U(r) = 0$$"
   ]
  },
  {
   "cell_type": "code",
   "execution_count": 111,
   "metadata": {
    "collapsed": true
   },
   "outputs": [],
   "source": [
    "# Import block\n",
    "import numpy as np\n",
    "import matplotlib.pyplot as plt\n",
    "from mpl_toolkits.mplot3d import Axes3D\n",
    "import math\n",
    "%matplotlib inline"
   ]
  },
  {
   "cell_type": "code",
   "execution_count": 106,
   "metadata": {
    "collapsed": true
   },
   "outputs": [],
   "source": [
    "# Function definitions\n",
    "\n",
    "def potential_Restriction(quick = False):\n",
    "    '''Restricts the possible values of potential to purely positive values, as defined in the problem set up.\n",
    "    The \"quick\" option defaults to a set value to make testing easy.\n",
    "    \n",
    "    returns: The value of the Potential Well's non-zero component'''\n",
    "    \n",
    "    passing = False\n",
    "    if (quick == True):\n",
    "        return 5\n",
    "    else:\n",
    "        while(passing == False):\n",
    "            U = input(\"Please enter a positive value of potential energy in Joules: \")\n",
    "            if (U > 0):\n",
    "                passing = True\n",
    "            else:\n",
    "                passing = False\n",
    "    return U\n",
    "\n",
    "def force_check (position, radius, force):\n",
    "    '''Calculates the current radial distance, and returns the current force value at that point,\n",
    "    including direction.\n",
    "    \n",
    "    Arguments:\n",
    "    position: a three part vector indicating the x,y,z components of the particle's current position\n",
    "    radius: a constant value of the radius of the spherical potential well\n",
    "    force: the value of force outside the potential well\n",
    "    \n",
    "    returns: Force at the current position'''\n",
    "    \n",
    "    sum = 0\n",
    "    impulse = []\n",
    "    for i in range(3): #Note, this is because it is being performed in 3D space\n",
    "        sum +=(position[i]**2)\n",
    "        \n",
    "    sum = sum**0.5\n",
    "    \n",
    "    if (sum > radius):\n",
    "        for i in range(len(position)):\n",
    "            position[i] = position[i]/sum\n",
    "            impulse.append(-1 * (position[i]) * force)\n",
    "        return impulse\n",
    "    \n",
    "    else:\n",
    "        return [0,0,0]\n",
    "    \n",
    "def impulse_generator (position, velocity, radius, constant_force, mass, deltaT):\n",
    "    '''Determines the change in kinetic energy from the current position and velocity,\n",
    "    as well as the user defined constants\n",
    "    \n",
    "    Arguments:\n",
    "    position: The current position of the particle\n",
    "    velocity: The current velocity of the particle\n",
    "    radius: The constant value of the well's radius\n",
    "    constant_force: The value of force outside the well\n",
    "    mass: The mass of the particle\n",
    "    deltaT: The time-step between the kinetic energies\n",
    "    \n",
    "    returns:\n",
    "    velocity_final: The new velocity of the particle\n",
    "    position_final: The new position of the particle'''\n",
    "    \n",
    "    # First, we create the force vector\n",
    "    force = force_check(position, radius, constant_force)\n",
    "    \n",
    "    # Then we establish the set of lists dictating the particle's current and future properties\n",
    "    kinetic_initial = []\n",
    "    \n",
    "    position_final = []\n",
    "    kinetic_final = []\n",
    "    velocity_final = []\n",
    "    \n",
    "    # Then we calculate its current kinetic energy\n",
    "    for v in velocity:\n",
    "        kinetic_initial.append(0.5*mass*v)\n",
    "        \n",
    "    # Using its current velocity, we determine where it will be after the time step\n",
    "    for p in range(len(position)):\n",
    "        position_final.append(position[p] + velocity[p]*deltaT)\n",
    "     \n",
    "    # Finally, we use the work formula to calculate the new kinetic energy, and by\n",
    "    # extension, the new velocity\n",
    "    for k in range(len(kinetic_initial)):\n",
    "        kinetic_final.append(kinetic_initial[k]-force[k]*velocity[k]*deltaT)\n",
    "        velocity_final.append((kinetic_final[k]*2/mass)**2)\n",
    "    \n",
    "    return velocity_final , position_final"
   ]
  },
  {
   "cell_type": "code",
   "execution_count": 108,
   "metadata": {},
   "outputs": [],
   "source": [
    "# Constant block\n",
    "R = 1 # Defines the length of the radius\n",
    "U_0 = potential_Restriction(quick = True) # A value of the potential energy in Joules\n",
    "P_0 = 5 # Defines the initial momentum of the particle\n",
    "K_0 = [100,100,100] # Defines the initial kinetic energy of the particle\n",
    "initial_position = [0,0,0] # Defines the starting position of the particle\n",
    "mass = 1000 # Defines mass of particle; default uses proton for sampling\n",
    "Velocity = []\n",
    "for k in K_0:\n",
    "    Velocity.append(math.sqrt(2*k/mass))\n",
    "    \n",
    "t_0 = 0 # Starting time\n",
    "t_final = 1 # End time\n",
    "steps = 1000 # Number of steps in time; increase for more precision\n",
    "time_step = (t_final-t_0)/steps\n",
    "\n",
    "# List block\n",
    "new_position = []\n",
    "times = []\n",
    "new_velocity = []\n",
    "\n",
    "new_position.append(initial_position)\n",
    "times.append(t_0)\n",
    "new_velocity.append(Velocity)"
   ]
  },
  {
   "cell_type": "code",
   "execution_count": 109,
   "metadata": {
    "scrolled": true
   },
   "outputs": [],
   "source": [
    "# Function Testing\n",
    "for j in range(steps):\n",
    "    tempvelocity, tempposition = impulse_generator(new_position[j], new_velocity[j], R, U_0, mass, time_step)\n",
    "    new_velocity.append(tempvelocity)\n",
    "    new_position.append(tempposition)\n",
    "    times.append(t_0+time_step*(j+1))"
   ]
  },
  {
   "cell_type": "code",
   "execution_count": 115,
   "metadata": {},
   "outputs": [],
   "source": [
    "# Obtain only one set of coordinates at a time\n",
    "x_coords = []\n",
    "y_coords = []\n",
    "z_coords = []\n",
    "\n",
    "for i in range(len(new_position)):\n",
    "    x_coords.append(new_position[i][0])\n",
    "    y_coords.append(new_position[i][1])\n",
    "    z_coords.append(new_position[i][2])"
   ]
  }
 ],
 "metadata": {
  "kernelspec": {
   "display_name": "Python 3",
   "language": "python",
   "name": "python3"
  },
  "language_info": {
   "codemirror_mode": {
    "name": "ipython",
    "version": 3
   },
   "file_extension": ".py",
   "mimetype": "text/x-python",
   "name": "python",
   "nbconvert_exporter": "python",
   "pygments_lexer": "ipython3",
   "version": "3.4.5"
  }
 },
 "nbformat": 4,
 "nbformat_minor": 1
}
